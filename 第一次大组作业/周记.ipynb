{
 "cells": [
  {
   "cell_type": "markdown",
   "metadata": {},
   "source": [
    "### 第一次作业——>周记"
   ]
  },
  {
   "cell_type": "markdown",
   "metadata": {},
   "source": [
    "####  &emsp;&emsp;&emsp;&emsp;&emsp;&emsp;&emsp;&emsp;&emsp;&emsp;&emsp;&emsp;&emsp;&emsp;&emsp;&emsp;&emsp;&emsp;&emsp;&emsp;&emsp;&emsp;&emsp;&emsp;&emsp;&emsp;&emsp;&emsp;&emsp;&emsp;&emsp;&emsp;&emsp;&emsp;&emsp;&emsp;&emsp;&emsp;&emsp;&emsp;&emsp;&emsp;&emsp;&emsp;————2025.3.19"
   ]
  },
  {
   "cell_type": "markdown",
   "metadata": {
    "vscode": {
     "languageId": "plaintext"
    }
   },
   "source": [
    "本次作业，我复习了链表的使用，并学习了*python三大库*、*线性回归原理*与利用线性回归、*Markdown语法*和python*预测数据*~~虽然完全没有学懂~~。\n",
    "\n",
    "&emsp;链表作为c语言中较难但又非常实用的工具，实在需要反复巩固。在*堆栈*、*队列*、*树*、*图*中链表都有大量应用场景~~甚至学会链表后我再也不想用数列了~~。\n",
    "\n",
    "&emsp;python三大库各有侧重（比如mat的绘图、numpy的矩阵）。面对庞大含数量的库，背库显然不是明智之举，我认为更应该熟记每个库的领域，方便在要使用相应功能时可以&emsp;有目标的搜索。\n",
    "\n",
    "&emsp;markdown语法让<big>想要展现的重要内容</big>更<big><big>突出</big></big>,同时方便了代码与文字描述间的穿插，在编程工作中大有可为。\n",
    "\n",
    "&emsp;线性回归虽然高中学过，但学习内容不过<small>冰山一角</small>。通过一周的网课学习，我得以一窥其全貌。同时我简单学习了线性回归的代码实现，为AI算法打下基础。\n",
    "\n"
   ]
  },
  {
   "cell_type": "markdown",
   "metadata": {},
   "source": [
    "#### 总结"
   ]
  },
  {
   "cell_type": "markdown",
   "metadata": {},
   "source": [
    "通过这周的学习，我慢慢熟悉了工作室的学习方向。希望在之后的培训中我能跟上节奏，成为正规军。"
   ]
  }
 ],
 "metadata": {
  "language_info": {
   "name": "python"
  }
 },
 "nbformat": 4,
 "nbformat_minor": 2
}
